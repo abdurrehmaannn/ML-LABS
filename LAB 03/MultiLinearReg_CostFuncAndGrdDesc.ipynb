{
  "nbformat": 4,
  "nbformat_minor": 0,
  "metadata": {
    "colab": {
      "provenance": []
    },
    "kernelspec": {
      "name": "python3",
      "display_name": "Python 3"
    },
    "language_info": {
      "name": "python"
    }
  },
  "cells": [
    {
      "cell_type": "markdown",
      "source": [
        "# **Name: Sajeel Tariq<br>Roll No: CTAI-29**"
      ],
      "metadata": {
        "id": "bIy0Mm7EBncw"
      }
    },
    {
      "cell_type": "markdown",
      "source": [
        "# Multi Liner Regression"
      ],
      "metadata": {
        "id": "1NC3rojG7w6V"
      }
    },
    {
      "cell_type": "code",
      "source": [
        "import numpy as np\n",
        "import pandas as pd\n",
        "import matplotlib.pyplot as plt\n",
        "from sklearn.model_selection import train_test_split\n",
        "from sklearn.linear_model import LinearRegression\n",
        "from sklearn import metrics\n",
        "\n"
      ],
      "metadata": {
        "id": "UqQkYpUP8muz"
      },
      "execution_count": 44,
      "outputs": []
    },
    {
      "cell_type": "code",
      "source": [
        "np.random.seed(42)\n",
        "X1 = 2 * np.random.rand(100, 1)\n",
        "X2 = 3 * np.random.rand(100, 1)\n",
        "y = 4 + 3 * X1 + 2 * X2 + np.random.randn(100, 1)"
      ],
      "metadata": {
        "id": "fyj8MoQP-pSF"
      },
      "execution_count": 56,
      "outputs": []
    },
    {
      "cell_type": "code",
      "source": [
        "X1,X2"
      ],
      "metadata": {
        "colab": {
          "base_uri": "https://localhost:8080/"
        },
        "id": "8RDERDPH-5LH",
        "outputId": "9de84177-797e-46ba-b9b3-e2def624a518"
      },
      "execution_count": 57,
      "outputs": [
        {
          "output_type": "execute_result",
          "data": {
            "text/plain": [
              "(array([[0.74908024],\n",
              "        [1.90142861],\n",
              "        [1.46398788],\n",
              "        [1.19731697],\n",
              "        [0.31203728],\n",
              "        [0.31198904],\n",
              "        [0.11616722],\n",
              "        [1.73235229],\n",
              "        [1.20223002],\n",
              "        [1.41614516],\n",
              "        [0.04116899],\n",
              "        [1.9398197 ],\n",
              "        [1.66488528],\n",
              "        [0.42467822],\n",
              "        [0.36364993],\n",
              "        [0.36680902],\n",
              "        [0.60848449],\n",
              "        [1.04951286],\n",
              "        [0.86389004],\n",
              "        [0.58245828],\n",
              "        [1.22370579],\n",
              "        [0.27898772],\n",
              "        [0.5842893 ],\n",
              "        [0.73272369],\n",
              "        [0.91213997],\n",
              "        [1.57035192],\n",
              "        [0.39934756],\n",
              "        [1.02846888],\n",
              "        [1.18482914],\n",
              "        [0.09290083],\n",
              "        [1.2150897 ],\n",
              "        [0.34104825],\n",
              "        [0.13010319],\n",
              "        [1.89777107],\n",
              "        [1.93126407],\n",
              "        [1.6167947 ],\n",
              "        [0.60922754],\n",
              "        [0.19534423],\n",
              "        [1.36846605],\n",
              "        [0.88030499],\n",
              "        [0.24407647],\n",
              "        [0.99035382],\n",
              "        [0.06877704],\n",
              "        [1.8186408 ],\n",
              "        [0.51755996],\n",
              "        [1.32504457],\n",
              "        [0.62342215],\n",
              "        [1.04013604],\n",
              "        [1.09342056],\n",
              "        [0.36970891],\n",
              "        [1.93916926],\n",
              "        [1.55026565],\n",
              "        [1.87899788],\n",
              "        [1.7896547 ],\n",
              "        [1.19579996],\n",
              "        [1.84374847],\n",
              "        [0.176985  ],\n",
              "        [0.39196572],\n",
              "        [0.09045458],\n",
              "        [0.65066066],\n",
              "        [0.77735458],\n",
              "        [0.54269806],\n",
              "        [1.65747502],\n",
              "        [0.71350665],\n",
              "        [0.56186902],\n",
              "        [1.08539217],\n",
              "        [0.28184845],\n",
              "        [1.60439396],\n",
              "        [0.14910129],\n",
              "        [1.97377387],\n",
              "        [1.54448954],\n",
              "        [0.39743136],\n",
              "        [0.01104423],\n",
              "        [1.63092286],\n",
              "        [1.41371469],\n",
              "        [1.45801434],\n",
              "        [1.54254069],\n",
              "        [0.1480893 ],\n",
              "        [0.71693146],\n",
              "        [0.23173812],\n",
              "        [1.72620685],\n",
              "        [1.24659625],\n",
              "        [0.66179605],\n",
              "        [0.1271167 ],\n",
              "        [0.62196464],\n",
              "        [0.65036664],\n",
              "        [1.45921236],\n",
              "        [1.27511494],\n",
              "        [1.77442549],\n",
              "        [0.94442985],\n",
              "        [0.23918849],\n",
              "        [1.42648957],\n",
              "        [1.5215701 ],\n",
              "        [1.1225544 ],\n",
              "        [1.54193436],\n",
              "        [0.98759119],\n",
              "        [1.04546566],\n",
              "        [0.85508204],\n",
              "        [0.05083825],\n",
              "        [0.21578285]]),\n",
              " array([[0.09428756],\n",
              "        [1.90923123],\n",
              "        [0.94306794],\n",
              "        [1.52571207],\n",
              "        [2.72269942],\n",
              "        [0.74787669],\n",
              "        [1.23114877],\n",
              "        [2.26665342],\n",
              "        [0.6863945 ],\n",
              "        [0.23093973],\n",
              "        [0.86925436],\n",
              "        [0.48366386],\n",
              "        [2.78909296],\n",
              "        [2.42436114],\n",
              "        [1.90021127],\n",
              "        [2.61438177],\n",
              "        [2.41101623],\n",
              "        [0.55971018],\n",
              "        [2.677677  ],\n",
              "        [1.61802673],\n",
              "        [2.42232047],\n",
              "        [2.6882739 ],\n",
              "        [0.95401042],\n",
              "        [0.33015577],\n",
              "        [0.68380549],\n",
              "        [1.28132337],\n",
              "        [2.4540443 ],\n",
              "        [2.58219175],\n",
              "        [0.02085639],\n",
              "        [1.53224191],\n",
              "        [1.25223301],\n",
              "        [0.66632343],\n",
              "        [0.3595961 ],\n",
              "        [1.01284551],\n",
              "        [2.82872911],\n",
              "        [0.9696088 ],\n",
              "        [1.55637187],\n",
              "        [2.10905688],\n",
              "        [1.09088881],\n",
              "        [2.91534625],\n",
              "        [2.88734188],\n",
              "        [0.75534689],\n",
              "        [1.49174552],\n",
              "        [0.90263493],\n",
              "        [0.85452148],\n",
              "        [0.11066084],\n",
              "        [1.828693  ],\n",
              "        [1.50803707],\n",
              "        [0.15443625],\n",
              "        [0.83593939],\n",
              "        [2.72479766],\n",
              "        [0.71868567],\n",
              "        [0.43468462],\n",
              "        [1.46835828],\n",
              "        [2.95695136],\n",
              "        [0.72616581],\n",
              "        [2.01640664],\n",
              "        [2.28485885],\n",
              "        [0.71291263],\n",
              "        [2.18464905],\n",
              "        [1.1033494 ],\n",
              "        [1.89691749],\n",
              "        [1.90058913],\n",
              "        [1.60732405],\n",
              "        [0.27086931],\n",
              "        [2.50590749],\n",
              "        [0.96234019],\n",
              "        [0.55955553],\n",
              "        [0.12232542],\n",
              "        [1.77267883],\n",
              "        [2.03269309],\n",
              "        [0.04976349],\n",
              "        [1.53627917],\n",
              "        [0.67948733],\n",
              "        [1.93551837],\n",
              "        [0.52309929],\n",
              "        [2.07281321],\n",
              "        [1.16020604],\n",
              "        [2.81018997],\n",
              "        [0.41256283],\n",
              "        [1.02319905],\n",
              "        [0.34042056],\n",
              "        [2.77408085],\n",
              "        [2.63201806],\n",
              "        [0.77382488],\n",
              "        [1.97995214],\n",
              "        [2.4516666 ],\n",
              "        [1.66560243],\n",
              "        [1.58895174],\n",
              "        [0.72555687],\n",
              "        [0.2793083 ],\n",
              "        [2.69164727],\n",
              "        [2.70125417],\n",
              "        [1.89930437],\n",
              "        [1.01708937],\n",
              "        [1.04762872],\n",
              "        [2.17786704],\n",
              "        [2.69133078],\n",
              "        [2.66125927],\n",
              "        [2.33962664]]))"
            ]
          },
          "metadata": {},
          "execution_count": 57
        }
      ]
    },
    {
      "cell_type": "code",
      "source": [
        "y"
      ],
      "metadata": {
        "colab": {
          "base_uri": "https://localhost:8080/"
        },
        "id": "TOg-hosR-7aA",
        "outputId": "dfcdbfb4-1ffb-484d-ff28-b08896241811"
      },
      "execution_count": 58,
      "outputs": [
        {
          "output_type": "execute_result",
          "data": {
            "text/plain": [
              "array([[ 5.75579111],\n",
              "       [13.755002  ],\n",
              "       [10.57117201],\n",
              "       [ 9.92902363],\n",
              "       [12.2472852 ],\n",
              "       [ 6.90555342],\n",
              "       [ 5.61949571],\n",
              "       [14.38691731],\n",
              "       [ 8.00479739],\n",
              "       [ 9.49739953],\n",
              "       [ 7.02061126],\n",
              "       [ 9.96610452],\n",
              "       [15.53621789],\n",
              "       [10.53553787],\n",
              "       [ 9.7134325 ],\n",
              "       [12.22598358],\n",
              "       [10.4020978 ],\n",
              "       [ 7.51422278],\n",
              "       [11.05750967],\n",
              "       [ 8.16761801],\n",
              "       [12.43865659],\n",
              "       [10.55466294],\n",
              "       [ 7.93757954],\n",
              "       [ 7.68566586],\n",
              "       [ 8.11703277],\n",
              "       [12.72723658],\n",
              "       [ 9.84147446],\n",
              "       [14.9699593 ],\n",
              "       [ 8.22186754],\n",
              "       [ 6.48602874],\n",
              "       [ 9.07884263],\n",
              "       [ 6.83826402],\n",
              "       [ 4.88603898],\n",
              "       [12.43300475],\n",
              "       [15.92448805],\n",
              "       [10.71677277],\n",
              "       [ 8.09363263],\n",
              "       [ 7.28929921],\n",
              "       [ 9.84066082],\n",
              "       [13.32800625],\n",
              "       [10.72100692],\n",
              "       [ 7.23601646],\n",
              "       [ 7.36300309],\n",
              "       [11.64650965],\n",
              "       [ 6.37786542],\n",
              "       [ 8.3501805 ],\n",
              "       [ 9.58586118],\n",
              "       [ 8.99351197],\n",
              "       [ 7.94692154],\n",
              "       [ 7.34179004],\n",
              "       [16.35015433],\n",
              "       [11.14197034],\n",
              "       [ 9.12869351],\n",
              "       [11.36785562],\n",
              "       [14.01633786],\n",
              "       [11.49736299],\n",
              "       [ 9.07881598],\n",
              "       [13.59834636],\n",
              "       [ 6.26807951],\n",
              "       [11.45684572],\n",
              "       [ 9.4927643 ],\n",
              "       [10.07332043],\n",
              "       [12.45833407],\n",
              "       [10.11413729],\n",
              "       [ 5.45452046],\n",
              "       [12.03117287],\n",
              "       [ 6.28486219],\n",
              "       [10.01416709],\n",
              "       [ 7.00661328],\n",
              "       [11.59941409],\n",
              "       [13.38511498],\n",
              "       [ 3.67910519],\n",
              "       [ 6.63375919],\n",
              "       [11.34069382],\n",
              "       [12.17646082],\n",
              "       [ 8.3424968 ],\n",
              "       [12.0579448 ],\n",
              "       [ 7.44427774],\n",
              "       [11.04080767],\n",
              "       [ 5.73679861],\n",
              "       [11.2705905 ],\n",
              "       [ 7.76902954],\n",
              "       [13.67749395],\n",
              "       [10.27930524],\n",
              "       [ 5.38840111],\n",
              "       [10.09745852],\n",
              "       [12.61918381],\n",
              "       [12.00898303],\n",
              "       [11.70865919],\n",
              "       [ 8.16966685],\n",
              "       [ 5.78116936],\n",
              "       [14.52851847],\n",
              "       [12.76692223],\n",
              "       [10.83177069],\n",
              "       [10.18503651],\n",
              "       [ 8.40470179],\n",
              "       [13.25758529],\n",
              "       [12.35288938],\n",
              "       [ 8.21414935],\n",
              "       [10.24446378]])"
            ]
          },
          "metadata": {},
          "execution_count": 58
        }
      ]
    },
    {
      "cell_type": "code",
      "source": [
        "X_b = np.c_[np.ones((100, 1)), X1, X2]"
      ],
      "metadata": {
        "id": "ddXVNI3B-qMW"
      },
      "execution_count": 59,
      "outputs": []
    },
    {
      "cell_type": "code",
      "source": [
        "# Cost function for multiple linear regression\n",
        "def compute_cost(X, y, theta):\n",
        "    m = len(y)\n",
        "    predictions = X.dot(theta)\n",
        "    cost = (1 / (2 * m)) * np.sum(np.square(predictions - y))\n",
        "    return cost"
      ],
      "metadata": {
        "id": "1NejuVG_-r6p"
      },
      "execution_count": 60,
      "outputs": []
    },
    {
      "cell_type": "code",
      "source": [
        "def gradient_descent(X, y, theta, learning_rate=0.1, iterations=1000):\n",
        "    m = len(y)\n",
        "    cost_history = []\n",
        "\n",
        "    for _ in range(iterations):\n",
        "        gradients = (1 / m) * X.T.dot(X.dot(theta) - y)\n",
        "        theta -= learning_rate * gradients\n",
        "        cost_history.append(compute_cost(X, y, theta))\n",
        "\n",
        "    return theta, cost_history"
      ],
      "metadata": {
        "id": "oybAKCQf-t7W"
      },
      "execution_count": 61,
      "outputs": []
    },
    {
      "cell_type": "code",
      "source": [
        "theta = np.random.randn(3, 1)"
      ],
      "metadata": {
        "id": "DP8KQL2V-war"
      },
      "execution_count": 62,
      "outputs": []
    },
    {
      "cell_type": "code",
      "source": [
        "learning_rate = 0.1\n",
        "iterations = 1000\n",
        "theta_best, cost_history = gradient_descent(X_b, y, theta, learning_rate, iterations)"
      ],
      "metadata": {
        "id": "qSqPE7-r-yk_"
      },
      "execution_count": 63,
      "outputs": []
    },
    {
      "cell_type": "code",
      "source": [
        "plt.plot(range(iterations), cost_history, label='Cost Function')\n",
        "plt.xlabel('Iterations')\n",
        "plt.ylabel('Cost')\n",
        "plt.title('Cost Function Convergence')\n",
        "plt.legend()\n",
        "plt.show()\n"
      ],
      "metadata": {
        "colab": {
          "base_uri": "https://localhost:8080/",
          "height": 472
        },
        "id": "fl_vqPLW-0rK",
        "outputId": "2a51f8c0-090a-4d22-e430-30e03b870df3"
      },
      "execution_count": 64,
      "outputs": [
        {
          "output_type": "display_data",
          "data": {
            "text/plain": [
              "<Figure size 640x480 with 1 Axes>"
            ],
            "image/png": "[encoded data removed]"
          },
          "metadata": {}
        }
      ]
    },
    {
      "cell_type": "code",
      "source": [
        "print(\"Optimal Theta Values:\")\n",
        "print(theta_best)"
      ],
      "metadata": {
        "colab": {
          "base_uri": "https://localhost:8080/"
        },
        "id": "moPoiTxn-2tA",
        "outputId": "3553494f-089c-4108-bff9-7aadfaf91b9e"
      },
      "execution_count": 65,
      "outputs": [
        {
          "output_type": "stream",
          "name": "stdout",
          "text": [
            "Optimal Theta Values:\n",
            "[[3.91061096]\n",
            " [2.82913688]\n",
            " [2.23977021]]\n"
          ]
        }
      ]
    },
    {
      "cell_type": "code",
      "source": [],
      "metadata": {
        "id": "I_D0iMWN_C-g"
      },
      "execution_count": null,
      "outputs": []
    }
  ]
}